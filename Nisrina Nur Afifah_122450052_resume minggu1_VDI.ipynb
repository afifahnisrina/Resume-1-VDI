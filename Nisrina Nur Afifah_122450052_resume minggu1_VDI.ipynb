{
 "cells": [
  {
   "cell_type": "markdown",
   "metadata": {},
   "source": [
    "Visualisasi data, yang mengubah data abstrak menjadi visi fisik (misalnya, panjang, posisi, bentuk, warna, dan sebagainya), merupakan sarana ampuh untuk menyajikan kisah data yang menarik kepada manusia yang lebih berorientasi visual. Visualisasi data sangat cocok untuk memberikan gambaran umum yang baik tentang data yang sangat besar, dan mempermudah interpretasi hasil analisis data kepada ilmuwan data. Komunitas database telah meningkatkan pengalaman pengguna secara signifikan dalam melihat dan berinteraksi dengan visualisasi data secara real-time, bahkan untuk data besar (misalnya, jutaan atau miliaran catatan). Selain itu, visualisasi data juga telah banyak digunakan di banyak aplikasi terkait database, seperti Excel, Google Sheets, Oracle Data Visualization Desktop, IBM DB2, Amazon Quicksight, Microsoft Power BI, dan masih banyak lainnya. Spesifikasi visualisasi menyediakan berbagai cara agar pengguna dapat menentukan apa yang mereka inginkan. Agar dapat melibatkan pengguna secara efektif dalam alur berulang, proses pembuatan visualisasi data harus efisien dan terukur, terutama untuk dua komponen \"Manipulasi Data\" dan \"Pemetaan\". Rekomendasi Visualisasi Data Menentukan visualisasi secara tepat adalah hal yang sulit, bahkan bagi para ahli, karena pemahaman tentang data apa yang akan divisualisasikan, cerita mana yang harus diceritakan, dan bagaimana memvisualisasikannya merupakan latihan coba-coba. Kami mensurvei bahasa visualisasi dari perspektif tumpukan dan menekankan bagaimana bahasa ini digunakan dari perspektif praktis."
   ]
  },
  {
   "cell_type": "markdown",
   "metadata": {},
   "source": [
    "Spesifikasi visualisasi data Secara umum, bahasa visualisasi data terdiri dari tiga bagian: data, tanda (atau isyarat visual), dan pemetaan di antara keduanya. Kategorisasi bahasa visualisasi data Strategi yang umum digunakan untuk mengkategorikan bahasa visualisasi data didasarkan pada ekspresifitasnya, seperti yang ditunjukkan pada sisi kiri Gambar. Bahasa Tingkat Rendah Kami mengacu pada bahasa tingkat rendah sebagai bahasa yang pengguna perlukan untuk menentukan semua pemetaan elemen. Bahasa Tingkat Tinggi Bahasa tingkat tinggi [2,3,16,18,36, 70 - 73] merangkum detail konstruksi visualisasi, seperti fungsi pemetaan, serta beberapa properti untuk tanda seperti ukuran kanvas, legenda, dan properti lainnya. \n",
    "\n",
    "GUI-based visual operations\n",
    "Dibandingkan dengan menggunakan bahasa visualisasi deklaratif untuk menentukan visualisasi seperti yang dibahas di Bagian. 2.2, cara yang lebih mudah digunakan dalam menyediakan spesifikasi adalah dengan mengikuti \"prinsip manipulasi langsung\", sebuah konsep yang banyak digunakan dalam aspek interaksi manusia-komputer. Visualisasi Data Interaktif Rasionalitas di balik visualisasi data interaktif adalah bahwa dalam banyak kasus, visualisasi data adalah proses eksplorasi, di mana pengguna harus terus menyempurnakan spesifikasi (misalnya, menambah/menghapus/mengubah atribut, mengubah jenis bagan) dari visualisasi yang sedang dieksplorasi hingga mendapatkan visualisasi yang diinginkan dalam proses eksplorasi. \n",
    "\n",
    "Underspecified specifications\n",
    "Visualisasi tidak ada artinya jika tidak dapat memberikan gambaran tentang data. Namun, dalam banyak kasus, pengguna tidak benar-benar mengetahui seluruh aspek data yang ada, karena datanya mungkin besar dan datanya sering diperbarui. Secara umum, untuk spesifikasi yang tidak ditentukan, pengguna hanya memberikan beberapa \"petunjuk\", dan merupakan tugas sistem visualisasi untuk menafsirkan masukan yang tidak ditentukan, dalam (mungkin) cara yang berbeda."
   ]
  },
  {
   "cell_type": "markdown",
   "metadata": {},
   "source": [
    "Pendekatan yang efisien untuk visualisasi data\n",
    "\n",
    "Exact data visualization\n",
    "Banyak sistem visualisasi data membaca data dari database. Mereka juga dapat memanipulasi data dengan pernyataan SQL dan kemudian menggunakan alat visualisasi untuk merender visualisasi tersebut. Terjemahan Kueri Cara alami untuk menggunakan kembali banyak sistem yang sudah matang (DBMS) adalah dengan menerjemahkan kueri visualisasi ke kueri yang diterima sistem tersebut. Misalnya, DeepEye, Polaris, SeeDB mendapatkan data dengan mengeluarkan query SQL ke database. Dengan membuat pemetaan antara bahasa visualisasi primitif dan bahasa SQL, kita dapat mengubah bahasa visualisasi target menjadi kueri SQL. Mengintegrasikan Sistem Visualisasi dengan DBMS Meskipun menggunakan terjemahan query adalah hal yang wajar, ada beberapa kelemahan. Salah satu masalah utamanya adalah banyaknya fungsi yang diulang, sehingga menghasilkan teknik optimasi yang tidak terpadu dengan asumsi dan kinerja yang berbeda di server (yaitu, sisi database) dan klien (yaitu, sisi visualisasi), sehingga membuat pengembang bingung untuk memilih optimasi yang sesuai. teknik. Penyimpanan Kolom Dalam pengelolaan data, faktor kinerja utama adalah tata letak data, misalnya tata letak berbasis baris dan berbasis kolom, yang mungkin memiliki perbedaan kinerja yang besar untuk aplikasi OLAP. Indeks Indeks banyak digunakan untuk meningkatkan kinerja pencarian dengan mengurangi jumlah catatan/baris dalam tabel yang perlu diperiksa. Komputasi Paralel Komputasi paralel juga telah banyak digunakan untuk pemrosesan query dalam sistem visualisasi data. Prediksi dan Pengambilan Awal Salah satu langkah penting dalam visualisasi data adalah eksplorasi data - pengguna terus menelusuri visualisasi yang mereka minati untuk mendapatkan gambaran tentang apa yang akan divisualisasikan. \n",
    "\n",
    "Approximate data visualization\n",
    "Ketika volume data tumbuh secara eksponensial, modul pemrosesan data tradisional tidak dapat memberikan hasil pemrosesan interaktif yang cepat. Untuk menjembatani kesenjangan antara volume data dan interaktivitas, banyak pekerjaan yang mempercepat fase pemrosesan data dengan memanfaatkan pemrosesan kueri perkiraan (AQP) yang memberikan hasil visualisasi perkiraan. Berbasis Pengambilan Sampel Inkremental Beberapa karya mencoba menghubungkan teknik kueri data inkremental dengan visualisasi data. Berbasis Persepsi Manusia Terkadang, meningkatkan ukuran sampel tidak selalu meningkatkan kualitas visualisasi. \n",
    "\n",
    "Progressive data visualization\n",
    "Binning Berbasis Rentang imMens memberikan visualisasi resolusi berbeda dengan mengubah ukuran bin. Binning Berbasis Rentang dan Konten Pekerjaan menyediakan dua struktur pohon untuk eksplorasi hierarki: HETree-R (HETree berbasis rentang) dan HETree-C (HETree berbasis konten) . HETree-R mirip dengan imMens, dan simpul daun HETree-R menunjukkan titik data dalam rentang lebar yang sama, sedangkan HETree-C memiliki jumlah titik data yang sama di semua simpul daun. Dengan demikian, HEtree-C dapat digunakan dalam skenario transkrip ujian di atas."
   ]
  },
  {
   "cell_type": "markdown",
   "metadata": {},
   "source": [
    "Visualization recommendation\n",
    "Proses visualisasi data bersifat berulang, dan kendala utama para praktisi adalah mereka harus terlibat dalam setiap langkah untuk membuat beberapa modifikasi. Tentu saja, sangat diharapkan adanya beberapa solusi rekomendasi visualisasi yang membuat hidup pengguna lebih mudah, dengan merekomendasikan (mungkin) visualisasi yang baik kepada mereka.  Ikhtisar Solusi Secara umum, untuk menyelesaikan semua masalah di atas, sistem rekomendasi visualisasi harus terlebih dahulu menghitung semua kemungkinan visualisasi, lalu merekomendasikan visualisasi peringkat teratas. Memangkas Visualisasi yang Tidak Berarti Untungnya, ada banyak sinyal (atau kendala) baik dari pengguna atau dari kearifan tradisional yang dapat digunakan untuk memangkas visualisasi yang \"buruk\". Setelah menghasilkan visualisasi kandidat (atau valid) dengan memangkas seluruh ruang pencarian seperti dijelaskan di atas, sistem rekomendasi visualisasi kemudian akan mengenali visualisasi yang bermakna berdasarkan metrik atau aturan yang telah ditentukan sebelumnya.\n",
    "\n",
    "Incomplete specification\n",
    "Sistem rekomendasi visualisasi dengan spesifikasi kosong tidak memerlukan masukan pengguna, sedangkan sistem rekomendasi dengan spesifikasi parsial menerima masukan spesifikasi elemen visualisasi parsial pengguna untuk visualisasi yang diinginkan.\n",
    "\n",
    "Rule-based visualization ranking\n",
    "Sistem rekomendasi berbasis aturan memberi peringkat pada kandidat visualisasi berdasarkan aturan yang telah ditentukan sebelumnya, yang biasanya merupakan metrik efektivitas persepsi manusia, diukur sebagai skor efektivitas dengan mempertimbangkan tipe data, informasi statistik, preferensi visual manusia, dll. Aturan Statistik Kerangka peringkat berdasarkan fitur adalah sistem rekomendasi berbasis aturan statistik. Ini dapat memberi peringkat visualisasi proyeksi paralel sumbu 1D atau 2D (histogram, plot kotak, dan plot sebar) kepada pengguna berdasarkan metrik peringkat statistik yang berbeda. Aturan Perseptual Kerangka peringkat berdasarkan fitur hanya dapat memberi peringkat antara jenis visualisasi yang sama (misalnya, histogram, plot kotak) berdasarkan metrik statistik tunggal, sementara Voyager memberi peringkat pada jenis visualisasi berbeda berdasarkan skor efektivitas persepsi yang mempertimbangkan tipe data, kardinalitas, visual manusia. preferensi, dan sebagainya. Misalnya, variabel berkardinalitas tinggi tidak boleh dipetakan ke warna; visualisasi dengan ruang layar lebih sedikit lebih disukai. s adalah jumlah tertimbang dari faktor-faktor ini, dan bobot faktor-faktor ini ditentukan secara manual melalui pengujian dan eksperimen.\n",
    "\n",
    "Machine learning-based visualization ranking\n",
    "Dengan adanya dua visualisasi u dan v, sistem harus menentukan mana yang lebih baik. Biasanya, sistem rekomendasi berbasis pembelajaran mesin pertama-tama mengumpulkan data pelatihan, yang berasal dari crowdsourcing atau web, kemudian melatih model peringkat yang mengambil ruang masukan X sebagai daftar vektor fitur, dan Y sebagai ruang keluaran yang terdiri dari nilai (atau peringkat). Belajar dengan Batasan Lunak Draco mengungkapkan preferensi dengan batasan lunak, dan batasan lunak (misalnya, nilai temporal lebih baik menggunakan jenis pengkodean: sumbu X) ditentukan oleh persepsi manusia (V adalah: biaya(v) = n i= 1 wi ·ni , ni ∈ ). Belajar dengan Contoh Kendala di Draco ditentukan sebelumnya oleh pengguna atau pengembang sistem, bukan dipelajari oleh mesin. Sebaliknya, DeepEye mengembangkan solusi berbasis pembelajaran mesin yang menangkap pengetahuan desain visualisasi secara otomatis dengan belajar dari contoh selain solusi berbasis aturan di atas.\n",
    "\n",
    "Reference-based specification\n",
    "Beberapa sistem rekomendasi visualisasi merekomendasikan visualisasi berdasarkan data referensi atau visualisasi referensi. SeeDB berbasis deviasi merekomendasikan visualisasi demi deviasi dengan beberapa visualisasi referensi. Sebelum rekomendasi, pengguna harus menentukan kueri Q yang diminati untuk mendapatkan data target yang disebut DQ dan kumpulan data referensi DR juga diperlukan. Kemudian, SeeDB menghitung kombinasi berbeda dari variabel yang sama, transformasi, tipe tanda, tipe pengkodean pada DQ dan DR untuk mendapatkan semua V(DQ) dan V(DR), masing-masing. Profiler berbasis anomali merekomendasikan visualisasi yang paling dapat membedakan anomali dalam visualisasi utama. Tupel dalam visualisasi utama diklasifikasikan berdasarkan beberapa metode deteksi anomali: titik normal dan titik abnormal berada dalam kelas yang berbeda, dilambangkan sebagai kelas kolom. Zenvisage berbasis Kemiripan/Jarak mencoba menemukan visualisasi menarik lainnya ketika pengguna memberikan tren, pola, atau wawasan yang diinginkan.\n",
    "\n",
    "Behavior-based recommendations\n",
    "Sistem rekomendasi berbasis perilaku menangkap perilaku pengguna saat ini sebagai masukan, kemudian menyimpulkan tugas yang diinginkan pengguna dan merekomendasikan visualisasi yang berguna berdasarkan tugas mereka.\n",
    "\n",
    "Personalized recommendations\n",
    "Sistem rekomendasi yang dipersonalisasi menangkap riwayat perilaku pengguna sebagai masukan untuk merekomendasikan visualisasi menarik yang dipersonalisasi. Model Linier VizDeck memberikan hasil rekomendasi visualisasi yang dipersonalisasi dengan melatih model linier untuk setiap pengguna menggunakan perilaku historis mereka. Pemfilteran Kolaboratif Selain melatih model untuk setiap pengguna, ada banyak teknik lain dalam sistem rekomendasi yang dipersonalisasi. Pemfilteran kolaboratif, pemfilteran berbasis konten, pemfilteran hibrid.\n",
    "\n",
    "A Summary\n",
    "Sebagian besar sistem rekomendasi yang ada memerlukan spesifikasi parsial, karena mengizinkan spesifikasi pengguna untuk visualisasi yang diinginkan sebagai masukan, misalnya spesifikasi kata kunci di DeepEye. Pengguna harus menentukan data referensi atau pola yang diinginkan dalam rekomendasi visualisasi berbasis referensi, yang mungkin sulit bagi pengguna yang tidak terbiasa dengan data asli dan ingin menjelajahi data dengan bantuan sistem rekomendasi."
   ]
  },
  {
   "cell_type": "markdown",
   "metadata": {},
   "source": [
    "Arahan penelitian lainnya \n",
    "\n",
    "Data preparation for data visualization\n",
    "Data di kehidupan nyata biasanya kotor, dan memvisualisasikan data kotor dapat menyesatkan pengguna. Fenomena ini sudah dikenal sejak lama sebagai salah satu jenis visualisasi bias dari komunitas visualisasi data.  Penelitian berikut telah dilakukan, baik dari komunitas database maupun komunitas visualisasi, untuk menyelidiki dampak data kotor pada visualisasi data. Analisis bagaimana-jika untuk outlier, mengevaluasi visualisasi dengan data yang hilang, peluang penelitian.\n",
    "\n",
    "Data visualization benchmarks\n",
    "Seperti ImageNet atau tolok ukur TPC klasik, penting untuk mengembangkan tolok ukur kinerja dan rekomendasi. Tolok ukur tersebut harus sesuai dengan tugas analisis visual, memberikan jejak dan data yang dapat digunakan kembali, dan jika ada rekomendasi, memiliki cakupan dan kualitas label yang tinggi. \n",
    "\n",
    "Data visualization for database-related applications\n",
    "Seperti disebutkan sebelumnya di Sekte. 1, visualisasi data juga memainkan peran penting dalam aplikasi terkait database, seperti Excel, Google Sheets, Oracle Data Visualization Desktop, IBM Db2, Amazon Quicksight, Microsoft Power BI, dan banyak lainnya. Tentu saja, dengan pesatnya perkembangan teknik visualisasi, terdapat lebih banyak peluang dalam penggunaan visualisasi data untuk aplikasi yang berhubungan dengan database."
   ]
  },
  {
   "cell_type": "markdown",
   "metadata": {},
   "source": [
    "Visualisasi data adalah bidang yang berkembang pesat dengan banyaknya hasil penelitian baru dan sistem baru yang dikembangkan baru-baru ini. Penelitian dan praktisi dari berbagai bidang telah berkontribusi terhadap keberhasilan visualisasi data yang luar biasa, yang didorong oleh sebagian besar (jika tidak semua) domain dan aplikasi."
   ]
  }
 ],
 "metadata": {
  "language_info": {
   "name": "python"
  }
 },
 "nbformat": 4,
 "nbformat_minor": 2
}
